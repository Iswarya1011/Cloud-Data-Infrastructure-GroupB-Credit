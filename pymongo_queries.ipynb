{
 "cells": [
  {
   "cell_type": "code",
   "execution_count": null,
   "metadata": {},
   "outputs": [],
   "source": [
    "import pymongo\n",
    "from dotenv import load_dotenv\n",
    "from pymongo_ssh import MongoSession\n",
    "import ssh_pymongo\n",
    "from sshtunnel import SSHTunnelForwarder\n",
    "import os"
   ]
  },
  {
   "cell_type": "code",
   "execution_count": null,
   "metadata": {},
   "outputs": [],
   "source": [
    "load_dotenv()"
   ]
  },
  {
   "cell_type": "markdown",
   "metadata": {},
   "source": [
    "### Test Query"
   ]
  },
  {
   "cell_type": "markdown",
   "metadata": {},
   "source": [
    "session = MongoSession(\n",
    "    host=os.getenv('HOST2'),\n",
    "    user=os.getenv('USER'),\n",
    "    password=os.getenv('PASSWORD'),\n",
    "    uri=\"mongodb://MESIIN592023-00038:30000/\"\n",
    ")\n",
    "\n",
    "db = session.connection['test']\n",
    "print(db[\"testSharding\"].find_one())\n",
    "session.stop()"
   ]
  }
 ],
 "metadata": {
  "language_info": {
   "name": "python"
  }
 },
 "nbformat": 4,
 "nbformat_minor": 2
}
