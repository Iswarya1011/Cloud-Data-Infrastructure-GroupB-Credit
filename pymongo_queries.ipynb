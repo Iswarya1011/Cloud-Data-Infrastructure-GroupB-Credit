{
 "cells": [
  {
   "cell_type": "code",
   "execution_count": 4,
   "metadata": {},
   "outputs": [],
   "source": [
    "import pymongo\n",
    "from dotenv import load_dotenv\n",
    "from pymongo_ssh import MongoSession\n",
    "import os\n",
    "import json"
   ]
  },
  {
   "cell_type": "code",
   "execution_count": 2,
   "metadata": {},
   "outputs": [
    {
     "data": {
      "text/plain": [
       "True"
      ]
     },
     "execution_count": 2,
     "metadata": {},
     "output_type": "execute_result"
    }
   ],
   "source": [
    "load_dotenv()"
   ]
  },
  {
   "cell_type": "markdown",
   "metadata": {},
   "source": [
    "### Test Query"
   ]
  },
  {
   "cell_type": "code",
   "execution_count": 3,
   "metadata": {},
   "outputs": [
    {
     "name": "stdout",
     "output_type": "stream",
     "text": [
      "{'_id': ObjectId('65a06feeb389f4ebf79f3330'), 'region_no': 1, 'region_name': 'North American', 'street': '111 First St.', 'city': 'Toronto', 'country': 'Ca'}\n"
     ]
    }
   ],
   "source": [
    "session = MongoSession(\n",
    "    host=os.getenv('HOST2'),\n",
    "    user=os.getenv('USER'),\n",
    "    password=os.getenv('PASSWORD'),\n",
    "    uri=\"mongodb://MESIIN592023-00038:30000/\"\n",
    ")\n",
    "\n",
    "db = session.connection['test']\n",
    "print(db[\"testSharding\"].find_one())\n",
    "session.stop()"
   ]
  },
  {
   "cell_type": "markdown",
   "metadata": {},
   "source": [
    "### Insert Data"
   ]
  },
  {
   "cell_type": "markdown",
   "metadata": {},
   "source": [
    "#### Corporation"
   ]
  },
  {
   "cell_type": "code",
   "execution_count": 7,
   "metadata": {},
   "outputs": [],
   "source": [
    "with open(\"JSON/corporation.json\", \"r\") as f:\n",
    "    corporation_data = json.load(f)"
   ]
  },
  {
   "cell_type": "code",
   "execution_count": null,
   "metadata": {},
   "outputs": [],
   "source": [
    "corporation_data"
   ]
  },
  {
   "cell_type": "code",
   "execution_count": 9,
   "metadata": {},
   "outputs": [
    {
     "name": "stdout",
     "output_type": "stream",
     "text": [
      "[ObjectId('65a071b8306330e0f33260df'), ObjectId('65a071b8306330e0f33260e0'), ObjectId('65a071b8306330e0f33260e1'), ObjectId('65a071b8306330e0f33260e2'), ObjectId('65a071b8306330e0f33260e3'), ObjectId('65a071b8306330e0f33260e4'), ObjectId('65a071b8306330e0f33260e5'), ObjectId('65a071b8306330e0f33260e6'), ObjectId('65a071b8306330e0f33260e7'), ObjectId('65a071b8306330e0f33260e8'), ObjectId('65a071b8306330e0f33260e9'), ObjectId('65a071b8306330e0f33260ea'), ObjectId('65a071b8306330e0f33260eb'), ObjectId('65a071b8306330e0f33260ec'), ObjectId('65a071b8306330e0f33260ed'), ObjectId('65a071b8306330e0f33260ee'), ObjectId('65a071b8306330e0f33260ef'), ObjectId('65a071b8306330e0f33260f0'), ObjectId('65a071b8306330e0f33260f1'), ObjectId('65a071b8306330e0f33260f2'), ObjectId('65a071b8306330e0f33260f3'), ObjectId('65a071b8306330e0f33260f4'), ObjectId('65a071b8306330e0f33260f5'), ObjectId('65a071b8306330e0f33260f6'), ObjectId('65a071b8306330e0f33260f7'), ObjectId('65a071b8306330e0f33260f8'), ObjectId('65a071b8306330e0f33260f9'), ObjectId('65a071b8306330e0f33260fa'), ObjectId('65a071b8306330e0f33260fb'), ObjectId('65a071b8306330e0f33260fc'), ObjectId('65a071b8306330e0f33260fd'), ObjectId('65a071b8306330e0f33260fe'), ObjectId('65a071b8306330e0f33260ff'), ObjectId('65a071b8306330e0f3326100'), ObjectId('65a071b8306330e0f3326101'), ObjectId('65a071b8306330e0f3326102'), ObjectId('65a071b8306330e0f3326103'), ObjectId('65a071b8306330e0f3326104'), ObjectId('65a071b8306330e0f3326105'), ObjectId('65a071b8306330e0f3326106'), ObjectId('65a071b8306330e0f3326107'), ObjectId('65a071b8306330e0f3326108'), ObjectId('65a071b8306330e0f3326109'), ObjectId('65a071b8306330e0f332610a'), ObjectId('65a071b8306330e0f332610b'), ObjectId('65a071b8306330e0f332610c'), ObjectId('65a071b8306330e0f332610d'), ObjectId('65a071b8306330e0f332610e'), ObjectId('65a071b8306330e0f332610f'), ObjectId('65a071b8306330e0f3326110'), ObjectId('65a071b8306330e0f3326111'), ObjectId('65a071b8306330e0f3326112'), ObjectId('65a071b8306330e0f3326113'), ObjectId('65a071b8306330e0f3326114'), ObjectId('65a071b8306330e0f3326115'), ObjectId('65a071b8306330e0f3326116'), ObjectId('65a071b8306330e0f3326117'), ObjectId('65a071b8306330e0f3326118'), ObjectId('65a071b8306330e0f3326119'), ObjectId('65a071b8306330e0f332611a'), ObjectId('65a071b8306330e0f332611b'), ObjectId('65a071b8306330e0f332611c'), ObjectId('65a071b8306330e0f332611d'), ObjectId('65a071b8306330e0f332611e'), ObjectId('65a071b8306330e0f332611f'), ObjectId('65a071b8306330e0f3326120'), ObjectId('65a071b8306330e0f3326121'), ObjectId('65a071b8306330e0f3326122'), ObjectId('65a071b8306330e0f3326123'), ObjectId('65a071b8306330e0f3326124'), ObjectId('65a071b8306330e0f3326125'), ObjectId('65a071b8306330e0f3326126'), ObjectId('65a071b8306330e0f3326127'), ObjectId('65a071b8306330e0f3326128'), ObjectId('65a071b8306330e0f3326129'), ObjectId('65a071b8306330e0f332612a'), ObjectId('65a071b8306330e0f332612b'), ObjectId('65a071b8306330e0f332612c'), ObjectId('65a071b8306330e0f332612d'), ObjectId('65a071b8306330e0f332612e'), ObjectId('65a071b8306330e0f332612f'), ObjectId('65a071b8306330e0f3326130'), ObjectId('65a071b8306330e0f3326131'), ObjectId('65a071b8306330e0f3326132'), ObjectId('65a071b8306330e0f3326133'), ObjectId('65a071b8306330e0f3326134'), ObjectId('65a071b8306330e0f3326135'), ObjectId('65a071b8306330e0f3326136'), ObjectId('65a071b8306330e0f3326137'), ObjectId('65a071b8306330e0f3326138'), ObjectId('65a071b8306330e0f3326139'), ObjectId('65a071b8306330e0f332613a'), ObjectId('65a071b8306330e0f332613b'), ObjectId('65a071b8306330e0f332613c'), ObjectId('65a071b8306330e0f332613d'), ObjectId('65a071b8306330e0f332613e'), ObjectId('65a071b8306330e0f332613f'), ObjectId('65a071b8306330e0f3326140'), ObjectId('65a071b8306330e0f3326141'), ObjectId('65a071b8306330e0f3326142'), ObjectId('65a071b8306330e0f3326143'), ObjectId('65a071b8306330e0f3326144'), ObjectId('65a071b8306330e0f3326145'), ObjectId('65a071b8306330e0f3326146'), ObjectId('65a071b8306330e0f3326147'), ObjectId('65a071b8306330e0f3326148'), ObjectId('65a071b8306330e0f3326149'), ObjectId('65a071b8306330e0f332614a'), ObjectId('65a071b8306330e0f332614b'), ObjectId('65a071b8306330e0f332614c'), ObjectId('65a071b8306330e0f332614d'), ObjectId('65a071b8306330e0f332614e'), ObjectId('65a071b8306330e0f332614f'), ObjectId('65a071b8306330e0f3326150'), ObjectId('65a071b8306330e0f3326151'), ObjectId('65a071b8306330e0f3326152'), ObjectId('65a071b8306330e0f3326153'), ObjectId('65a071b8306330e0f3326154'), ObjectId('65a071b8306330e0f3326155'), ObjectId('65a071b8306330e0f3326156'), ObjectId('65a071b8306330e0f3326157'), ObjectId('65a071b8306330e0f3326158'), ObjectId('65a071b8306330e0f3326159'), ObjectId('65a071b8306330e0f332615a'), ObjectId('65a071b8306330e0f332615b'), ObjectId('65a071b8306330e0f332615c'), ObjectId('65a071b8306330e0f332615d'), ObjectId('65a071b8306330e0f332615e'), ObjectId('65a071b8306330e0f332615f'), ObjectId('65a071b8306330e0f3326160'), ObjectId('65a071b8306330e0f3326161'), ObjectId('65a071b8306330e0f3326162'), ObjectId('65a071b8306330e0f3326163'), ObjectId('65a071b8306330e0f3326164'), ObjectId('65a071b8306330e0f3326165'), ObjectId('65a071b8306330e0f3326166'), ObjectId('65a071b8306330e0f3326167'), ObjectId('65a071b8306330e0f3326168'), ObjectId('65a071b8306330e0f3326169'), ObjectId('65a071b8306330e0f332616a'), ObjectId('65a071b8306330e0f332616b'), ObjectId('65a071b8306330e0f332616c'), ObjectId('65a071b8306330e0f332616d'), ObjectId('65a071b8306330e0f332616e'), ObjectId('65a071b8306330e0f332616f'), ObjectId('65a071b8306330e0f3326170'), ObjectId('65a071b8306330e0f3326171'), ObjectId('65a071b8306330e0f3326172'), ObjectId('65a071b8306330e0f3326173'), ObjectId('65a071b8306330e0f3326174'), ObjectId('65a071b8306330e0f3326175'), ObjectId('65a071b8306330e0f3326176'), ObjectId('65a071b8306330e0f3326177'), ObjectId('65a071b8306330e0f3326178'), ObjectId('65a071b8306330e0f3326179'), ObjectId('65a071b8306330e0f332617a'), ObjectId('65a071b8306330e0f332617b'), ObjectId('65a071b8306330e0f332617c'), ObjectId('65a071b8306330e0f332617d'), ObjectId('65a071b8306330e0f332617e'), ObjectId('65a071b8306330e0f332617f'), ObjectId('65a071b8306330e0f3326180'), ObjectId('65a071b8306330e0f3326181'), ObjectId('65a071b8306330e0f3326182'), ObjectId('65a071b8306330e0f3326183'), ObjectId('65a071b8306330e0f3326184'), ObjectId('65a071b8306330e0f3326185'), ObjectId('65a071b8306330e0f3326186'), ObjectId('65a071b8306330e0f3326187'), ObjectId('65a071b8306330e0f3326188'), ObjectId('65a071b8306330e0f3326189'), ObjectId('65a071b8306330e0f332618a'), ObjectId('65a071b8306330e0f332618b'), ObjectId('65a071b8306330e0f332618c'), ObjectId('65a071b8306330e0f332618d'), ObjectId('65a071b8306330e0f332618e'), ObjectId('65a071b8306330e0f332618f'), ObjectId('65a071b8306330e0f3326190'), ObjectId('65a071b8306330e0f3326191'), ObjectId('65a071b8306330e0f3326192'), ObjectId('65a071b8306330e0f3326193'), ObjectId('65a071b8306330e0f3326194'), ObjectId('65a071b8306330e0f3326195'), ObjectId('65a071b8306330e0f3326196'), ObjectId('65a071b8306330e0f3326197'), ObjectId('65a071b8306330e0f3326198'), ObjectId('65a071b8306330e0f3326199'), ObjectId('65a071b8306330e0f332619a'), ObjectId('65a071b8306330e0f332619b'), ObjectId('65a071b8306330e0f332619c'), ObjectId('65a071b8306330e0f332619d'), ObjectId('65a071b8306330e0f332619e'), ObjectId('65a071b8306330e0f332619f'), ObjectId('65a071b8306330e0f33261a0'), ObjectId('65a071b8306330e0f33261a1'), ObjectId('65a071b8306330e0f33261a2'), ObjectId('65a071b8306330e0f33261a3'), ObjectId('65a071b8306330e0f33261a4'), ObjectId('65a071b8306330e0f33261a5'), ObjectId('65a071b8306330e0f33261a6'), ObjectId('65a071b8306330e0f33261a7'), ObjectId('65a071b8306330e0f33261a8'), ObjectId('65a071b8306330e0f33261a9'), ObjectId('65a071b8306330e0f33261aa'), ObjectId('65a071b8306330e0f33261ab'), ObjectId('65a071b8306330e0f33261ac'), ObjectId('65a071b8306330e0f33261ad'), ObjectId('65a071b8306330e0f33261ae'), ObjectId('65a071b8306330e0f33261af'), ObjectId('65a071b8306330e0f33261b0'), ObjectId('65a071b8306330e0f33261b1'), ObjectId('65a071b8306330e0f33261b2'), ObjectId('65a071b8306330e0f33261b3'), ObjectId('65a071b8306330e0f33261b4'), ObjectId('65a071b8306330e0f33261b5'), ObjectId('65a071b8306330e0f33261b6'), ObjectId('65a071b8306330e0f33261b7'), ObjectId('65a071b8306330e0f33261b8'), ObjectId('65a071b8306330e0f33261b9'), ObjectId('65a071b8306330e0f33261ba'), ObjectId('65a071b8306330e0f33261bb'), ObjectId('65a071b8306330e0f33261bc'), ObjectId('65a071b8306330e0f33261bd'), ObjectId('65a071b8306330e0f33261be'), ObjectId('65a071b8306330e0f33261bf'), ObjectId('65a071b8306330e0f33261c0'), ObjectId('65a071b8306330e0f33261c1'), ObjectId('65a071b8306330e0f33261c2'), ObjectId('65a071b8306330e0f33261c3'), ObjectId('65a071b8306330e0f33261c4'), ObjectId('65a071b8306330e0f33261c5'), ObjectId('65a071b8306330e0f33261c6'), ObjectId('65a071b8306330e0f33261c7'), ObjectId('65a071b8306330e0f33261c8'), ObjectId('65a071b8306330e0f33261c9'), ObjectId('65a071b8306330e0f33261ca'), ObjectId('65a071b8306330e0f33261cb'), ObjectId('65a071b8306330e0f33261cc'), ObjectId('65a071b8306330e0f33261cd'), ObjectId('65a071b8306330e0f33261ce'), ObjectId('65a071b8306330e0f33261cf'), ObjectId('65a071b8306330e0f33261d0'), ObjectId('65a071b8306330e0f33261d1'), ObjectId('65a071b8306330e0f33261d2'), ObjectId('65a071b8306330e0f33261d3'), ObjectId('65a071b8306330e0f33261d4'), ObjectId('65a071b8306330e0f33261d5'), ObjectId('65a071b8306330e0f33261d6'), ObjectId('65a071b8306330e0f33261d7'), ObjectId('65a071b8306330e0f33261d8'), ObjectId('65a071b8306330e0f33261d9'), ObjectId('65a071b8306330e0f33261da'), ObjectId('65a071b8306330e0f33261db'), ObjectId('65a071b8306330e0f33261dc'), ObjectId('65a071b8306330e0f33261dd'), ObjectId('65a071b8306330e0f33261de'), ObjectId('65a071b8306330e0f33261df'), ObjectId('65a071b8306330e0f33261e0'), ObjectId('65a071b8306330e0f33261e1'), ObjectId('65a071b8306330e0f33261e2'), ObjectId('65a071b8306330e0f33261e3'), ObjectId('65a071b8306330e0f33261e4'), ObjectId('65a071b8306330e0f33261e5'), ObjectId('65a071b8306330e0f33261e6'), ObjectId('65a071b8306330e0f33261e7'), ObjectId('65a071b8306330e0f33261e8'), ObjectId('65a071b8306330e0f33261e9'), ObjectId('65a071b8306330e0f33261ea'), ObjectId('65a071b8306330e0f33261eb'), ObjectId('65a071b8306330e0f33261ec'), ObjectId('65a071b8306330e0f33261ed'), ObjectId('65a071b8306330e0f33261ee'), ObjectId('65a071b8306330e0f33261ef'), ObjectId('65a071b8306330e0f33261f0'), ObjectId('65a071b8306330e0f33261f1'), ObjectId('65a071b8306330e0f33261f2'), ObjectId('65a071b8306330e0f33261f3'), ObjectId('65a071b8306330e0f33261f4'), ObjectId('65a071b8306330e0f33261f5'), ObjectId('65a071b8306330e0f33261f6'), ObjectId('65a071b8306330e0f33261f7'), ObjectId('65a071b8306330e0f33261f8'), ObjectId('65a071b8306330e0f33261f9'), ObjectId('65a071b8306330e0f33261fa'), ObjectId('65a071b8306330e0f33261fb'), ObjectId('65a071b8306330e0f33261fc'), ObjectId('65a071b8306330e0f33261fd'), ObjectId('65a071b8306330e0f33261fe'), ObjectId('65a071b8306330e0f33261ff'), ObjectId('65a071b8306330e0f3326200'), ObjectId('65a071b8306330e0f3326201'), ObjectId('65a071b8306330e0f3326202'), ObjectId('65a071b8306330e0f3326203'), ObjectId('65a071b8306330e0f3326204'), ObjectId('65a071b8306330e0f3326205'), ObjectId('65a071b8306330e0f3326206'), ObjectId('65a071b8306330e0f3326207'), ObjectId('65a071b8306330e0f3326208'), ObjectId('65a071b8306330e0f3326209'), ObjectId('65a071b8306330e0f332620a'), ObjectId('65a071b8306330e0f332620b'), ObjectId('65a071b8306330e0f332620c'), ObjectId('65a071b8306330e0f332620d'), ObjectId('65a071b8306330e0f332620e'), ObjectId('65a071b8306330e0f332620f'), ObjectId('65a071b8306330e0f3326210'), ObjectId('65a071b8306330e0f3326211'), ObjectId('65a071b8306330e0f3326212'), ObjectId('65a071b8306330e0f3326213'), ObjectId('65a071b8306330e0f3326214'), ObjectId('65a071b8306330e0f3326215'), ObjectId('65a071b8306330e0f3326216'), ObjectId('65a071b8306330e0f3326217'), ObjectId('65a071b8306330e0f3326218'), ObjectId('65a071b8306330e0f3326219'), ObjectId('65a071b8306330e0f332621a'), ObjectId('65a071b8306330e0f332621b'), ObjectId('65a071b8306330e0f332621c'), ObjectId('65a071b8306330e0f332621d'), ObjectId('65a071b8306330e0f332621e'), ObjectId('65a071b8306330e0f332621f'), ObjectId('65a071b8306330e0f3326220'), ObjectId('65a071b8306330e0f3326221'), ObjectId('65a071b8306330e0f3326222'), ObjectId('65a071b8306330e0f3326223'), ObjectId('65a071b8306330e0f3326224'), ObjectId('65a071b8306330e0f3326225'), ObjectId('65a071b8306330e0f3326226'), ObjectId('65a071b8306330e0f3326227'), ObjectId('65a071b8306330e0f3326228'), ObjectId('65a071b8306330e0f3326229'), ObjectId('65a071b8306330e0f332622a'), ObjectId('65a071b8306330e0f332622b'), ObjectId('65a071b8306330e0f332622c'), ObjectId('65a071b8306330e0f332622d'), ObjectId('65a071b8306330e0f332622e'), ObjectId('65a071b8306330e0f332622f'), ObjectId('65a071b8306330e0f3326230'), ObjectId('65a071b8306330e0f3326231'), ObjectId('65a071b8306330e0f3326232'), ObjectId('65a071b8306330e0f3326233'), ObjectId('65a071b8306330e0f3326234'), ObjectId('65a071b8306330e0f3326235'), ObjectId('65a071b8306330e0f3326236'), ObjectId('65a071b8306330e0f3326237'), ObjectId('65a071b8306330e0f3326238'), ObjectId('65a071b8306330e0f3326239'), ObjectId('65a071b8306330e0f332623a'), ObjectId('65a071b8306330e0f332623b'), ObjectId('65a071b8306330e0f332623c'), ObjectId('65a071b8306330e0f332623d'), ObjectId('65a071b8306330e0f332623e'), ObjectId('65a071b8306330e0f332623f'), ObjectId('65a071b8306330e0f3326240'), ObjectId('65a071b8306330e0f3326241'), ObjectId('65a071b8306330e0f3326242'), ObjectId('65a071b8306330e0f3326243'), ObjectId('65a071b8306330e0f3326244'), ObjectId('65a071b8306330e0f3326245'), ObjectId('65a071b8306330e0f3326246'), ObjectId('65a071b8306330e0f3326247'), ObjectId('65a071b8306330e0f3326248'), ObjectId('65a071b8306330e0f3326249'), ObjectId('65a071b8306330e0f332624a'), ObjectId('65a071b8306330e0f332624b'), ObjectId('65a071b8306330e0f332624c'), ObjectId('65a071b8306330e0f332624d'), ObjectId('65a071b8306330e0f332624e'), ObjectId('65a071b8306330e0f332624f'), ObjectId('65a071b8306330e0f3326250'), ObjectId('65a071b8306330e0f3326251'), ObjectId('65a071b8306330e0f3326252'), ObjectId('65a071b8306330e0f3326253'), ObjectId('65a071b8306330e0f3326254'), ObjectId('65a071b8306330e0f3326255'), ObjectId('65a071b8306330e0f3326256'), ObjectId('65a071b8306330e0f3326257'), ObjectId('65a071b8306330e0f3326258'), ObjectId('65a071b8306330e0f3326259'), ObjectId('65a071b8306330e0f332625a'), ObjectId('65a071b8306330e0f332625b'), ObjectId('65a071b8306330e0f332625c'), ObjectId('65a071b8306330e0f332625d'), ObjectId('65a071b8306330e0f332625e'), ObjectId('65a071b8306330e0f332625f'), ObjectId('65a071b8306330e0f3326260'), ObjectId('65a071b8306330e0f3326261'), ObjectId('65a071b8306330e0f3326262'), ObjectId('65a071b8306330e0f3326263'), ObjectId('65a071b8306330e0f3326264'), ObjectId('65a071b8306330e0f3326265'), ObjectId('65a071b8306330e0f3326266'), ObjectId('65a071b8306330e0f3326267'), ObjectId('65a071b8306330e0f3326268'), ObjectId('65a071b8306330e0f3326269'), ObjectId('65a071b8306330e0f332626a'), ObjectId('65a071b8306330e0f332626b'), ObjectId('65a071b8306330e0f332626c'), ObjectId('65a071b8306330e0f332626d'), ObjectId('65a071b8306330e0f332626e'), ObjectId('65a071b8306330e0f332626f'), ObjectId('65a071b8306330e0f3326270'), ObjectId('65a071b8306330e0f3326271'), ObjectId('65a071b8306330e0f3326272'), ObjectId('65a071b8306330e0f3326273'), ObjectId('65a071b8306330e0f3326274'), ObjectId('65a071b8306330e0f3326275'), ObjectId('65a071b8306330e0f3326276'), ObjectId('65a071b8306330e0f3326277'), ObjectId('65a071b8306330e0f3326278'), ObjectId('65a071b8306330e0f3326279'), ObjectId('65a071b8306330e0f332627a'), ObjectId('65a071b8306330e0f332627b'), ObjectId('65a071b8306330e0f332627c'), ObjectId('65a071b8306330e0f332627d'), ObjectId('65a071b8306330e0f332627e'), ObjectId('65a071b8306330e0f332627f'), ObjectId('65a071b8306330e0f3326280'), ObjectId('65a071b8306330e0f3326281'), ObjectId('65a071b8306330e0f3326282'), ObjectId('65a071b8306330e0f3326283'), ObjectId('65a071b8306330e0f3326284'), ObjectId('65a071b8306330e0f3326285'), ObjectId('65a071b8306330e0f3326286'), ObjectId('65a071b8306330e0f3326287'), ObjectId('65a071b8306330e0f3326288'), ObjectId('65a071b8306330e0f3326289'), ObjectId('65a071b8306330e0f332628a'), ObjectId('65a071b8306330e0f332628b'), ObjectId('65a071b8306330e0f332628c'), ObjectId('65a071b8306330e0f332628d'), ObjectId('65a071b8306330e0f332628e'), ObjectId('65a071b8306330e0f332628f'), ObjectId('65a071b8306330e0f3326290'), ObjectId('65a071b8306330e0f3326291'), ObjectId('65a071b8306330e0f3326292'), ObjectId('65a071b8306330e0f3326293'), ObjectId('65a071b8306330e0f3326294'), ObjectId('65a071b8306330e0f3326295'), ObjectId('65a071b8306330e0f3326296'), ObjectId('65a071b8306330e0f3326297'), ObjectId('65a071b8306330e0f3326298'), ObjectId('65a071b8306330e0f3326299'), ObjectId('65a071b8306330e0f332629a'), ObjectId('65a071b8306330e0f332629b'), ObjectId('65a071b8306330e0f332629c'), ObjectId('65a071b8306330e0f332629d'), ObjectId('65a071b8306330e0f332629e'), ObjectId('65a071b8306330e0f332629f'), ObjectId('65a071b8306330e0f33262a0'), ObjectId('65a071b8306330e0f33262a1'), ObjectId('65a071b8306330e0f33262a2'), ObjectId('65a071b8306330e0f33262a3'), ObjectId('65a071b8306330e0f33262a4'), ObjectId('65a071b8306330e0f33262a5'), ObjectId('65a071b8306330e0f33262a6'), ObjectId('65a071b8306330e0f33262a7'), ObjectId('65a071b8306330e0f33262a8'), ObjectId('65a071b8306330e0f33262a9'), ObjectId('65a071b8306330e0f33262aa'), ObjectId('65a071b8306330e0f33262ab'), ObjectId('65a071b8306330e0f33262ac'), ObjectId('65a071b8306330e0f33262ad'), ObjectId('65a071b8306330e0f33262ae'), ObjectId('65a071b8306330e0f33262af'), ObjectId('65a071b8306330e0f33262b0'), ObjectId('65a071b8306330e0f33262b1'), ObjectId('65a071b8306330e0f33262b2'), ObjectId('65a071b8306330e0f33262b3'), ObjectId('65a071b8306330e0f33262b4'), ObjectId('65a071b8306330e0f33262b5'), ObjectId('65a071b8306330e0f33262b6'), ObjectId('65a071b8306330e0f33262b7'), ObjectId('65a071b8306330e0f33262b8'), ObjectId('65a071b8306330e0f33262b9'), ObjectId('65a071b8306330e0f33262ba'), ObjectId('65a071b8306330e0f33262bb'), ObjectId('65a071b8306330e0f33262bc'), ObjectId('65a071b8306330e0f33262bd'), ObjectId('65a071b8306330e0f33262be'), ObjectId('65a071b8306330e0f33262bf'), ObjectId('65a071b8306330e0f33262c0'), ObjectId('65a071b8306330e0f33262c1'), ObjectId('65a071b8306330e0f33262c2'), ObjectId('65a071b8306330e0f33262c3'), ObjectId('65a071b8306330e0f33262c4'), ObjectId('65a071b8306330e0f33262c5'), ObjectId('65a071b8306330e0f33262c6'), ObjectId('65a071b8306330e0f33262c7'), ObjectId('65a071b8306330e0f33262c8'), ObjectId('65a071b8306330e0f33262c9'), ObjectId('65a071b8306330e0f33262ca'), ObjectId('65a071b8306330e0f33262cb'), ObjectId('65a071b8306330e0f33262cc'), ObjectId('65a071b8306330e0f33262cd'), ObjectId('65a071b8306330e0f33262ce'), ObjectId('65a071b8306330e0f33262cf'), ObjectId('65a071b8306330e0f33262d0'), ObjectId('65a071b8306330e0f33262d1'), ObjectId('65a071b8306330e0f33262d2')]\n"
     ]
    }
   ],
   "source": [
    "session = MongoSession(\n",
    "    host=os.getenv('HOST2'),\n",
    "    user=os.getenv('USER'),\n",
    "    password=os.getenv('PASSWORD'),\n",
    "    uri=\"mongodb://MESIIN592023-00038:30000/\"\n",
    ")\n",
    "\n",
    "db = session.connection['Credit']\n",
    "corporation_col = db.corporation\n",
    "# x = corporation_col.insert_many(corporation_data)\n",
    "\n",
    "# #print list of the _id values of the inserted documents:\n",
    "# print(x.inserted_ids)\n",
    "session.stop()"
   ]
  },
  {
   "cell_type": "code",
   "execution_count": 23,
   "metadata": {},
   "outputs": [
    {
     "name": "stdout",
     "output_type": "stream",
     "text": [
      "{'_id': ObjectId('65a071b8306330e0f33260df'), 'corp_no': 1, 'corp_name': 'Corp. Apex Key StonesInc.', 'expr_dt': '2004-10-12 10:41:26', 'region_no': 3, 'region_name': 'Scandanavian', 'street': '333 Third St.', 'city': 'Goteborg', 'country': 'Sw', 'num_members': 0.0}\n"
     ]
    }
   ],
   "source": [
    "session = MongoSession(\n",
    "    host=os.getenv('HOST2'),\n",
    "    user=os.getenv('USER'),\n",
    "    password=os.getenv('PASSWORD'),\n",
    "    uri=\"mongodb://MESIIN592023-00038:30000/\"\n",
    ")\n",
    "\n",
    "db = session.connection['Credit']\n",
    "corporation_col = db.corporation\n",
    "print(corporation_col.find_one())\n",
    "session.stop()"
   ]
  },
  {
   "cell_type": "markdown",
   "metadata": {},
   "source": [
    "#### Charge"
   ]
  },
  {
   "cell_type": "code",
   "execution_count": 36,
   "metadata": {},
   "outputs": [
    {
     "name": "stdout",
     "output_type": "stream",
     "text": [
      "1 done\n",
      "2 done\n",
      "3 done\n",
      "4 done\n",
      "5 done\n",
      "6 done\n",
      "7 done\n",
      "8 done\n",
      "9 done\n",
      "10 done\n",
      "11 done\n",
      "12 done\n",
      "13 done\n",
      "14 done\n",
      "15 done\n",
      "16 done\n"
     ]
    }
   ],
   "source": [
    "session = MongoSession(\n",
    "    host=os.getenv('HOST2'),\n",
    "    user=os.getenv('USER'),\n",
    "    password=os.getenv('PASSWORD'),\n",
    "    uri=\"mongodb://MESIIN592023-00038:30000/\"\n",
    ")\n",
    "\n",
    "db = session.connection['Credit']\n",
    "charge_col = db.charge\n",
    "\n",
    "for doc_nb in range(1,17):\n",
    "    with open(f\"JSON/charge{doc_nb}.json\", \"r\") as f:\n",
    "        charge_data = json.load(f)\n",
    "    \n",
    "    # x = charge_col.insert_many(charge_data)\n",
    "    print(doc_nb, \"done\")\n",
    "\n",
    "# print(charge_col.find_one())\n",
    "\n",
    "session.stop()"
   ]
  },
  {
   "cell_type": "markdown",
   "metadata": {},
   "source": [
    "#### Member"
   ]
  },
  {
   "cell_type": "code",
   "execution_count": 15,
   "metadata": {},
   "outputs": [],
   "source": [
    "session = MongoSession(\n",
    "    host=os.getenv('HOST2'),\n",
    "    user=os.getenv('USER'),\n",
    "    password=os.getenv('PASSWORD'),\n",
    "    uri=\"mongodb://MESIIN592023-00038:30000/\"\n",
    ")\n",
    "\n",
    "db = session.connection['Credit']\n",
    "member_col = db.member\n",
    "\n",
    "with open(f\"JSON/member.json\", \"r\") as f:\n",
    "        member_data = json.load(f)\n",
    "\n",
    "# x = member_col.insert_many(member_data)\n",
    "\n",
    "session.stop()"
   ]
  },
  {
   "cell_type": "markdown",
   "metadata": {},
   "source": [
    "#### Payment"
   ]
  },
  {
   "cell_type": "code",
   "execution_count": 34,
   "metadata": {},
   "outputs": [],
   "source": [
    "session = MongoSession(\n",
    "    host=os.getenv('HOST2'),\n",
    "    user=os.getenv('USER'),\n",
    "    password=os.getenv('PASSWORD'),\n",
    "    uri=\"mongodb://MESIIN592023-00038:30000/\"\n",
    ")\n",
    "\n",
    "db = session.connection['Credit']\n",
    "payment_col = db.payment\n",
    "\n",
    "with open(f\"JSON/payment.json\", \"r\") as f:\n",
    "        payment_data = json.load(f)\n",
    "\n",
    "x = payment_col.insert_many(payment_data)\n",
    "        \n",
    "# x = payment_col.delete_many({})\n",
    "\n",
    "# print(x.deleted_count, \" documents deleted.\")\n",
    "\n",
    "session.stop()"
   ]
  },
  {
   "cell_type": "markdown",
   "metadata": {},
   "source": [
    "#### Provider"
   ]
  },
  {
   "cell_type": "code",
   "execution_count": 19,
   "metadata": {},
   "outputs": [],
   "source": [
    "session = MongoSession(\n",
    "    host=os.getenv('HOST2'),\n",
    "    user=os.getenv('USER'),\n",
    "    password=os.getenv('PASSWORD'),\n",
    "    uri=\"mongodb://MESIIN592023-00038:30000/\"\n",
    ")\n",
    "\n",
    "db = session.connection['Credit']\n",
    "provider_col = db.provider\n",
    "\n",
    "with open(f\"JSON/provider.json\", \"r\") as f:\n",
    "        provider_data = json.load(f)\n",
    "\n",
    "# x = provider_col.insert_many(provider_data)\n",
    "\n",
    "session.stop()"
   ]
  },
  {
   "cell_type": "markdown",
   "metadata": {},
   "source": [
    "#### Statement"
   ]
  },
  {
   "cell_type": "code",
   "execution_count": 20,
   "metadata": {},
   "outputs": [],
   "source": [
    "session = MongoSession(\n",
    "    host=os.getenv('HOST2'),\n",
    "    user=os.getenv('USER'),\n",
    "    password=os.getenv('PASSWORD'),\n",
    "    uri=\"mongodb://MESIIN592023-00038:30000/\"\n",
    ")\n",
    "\n",
    "db = session.connection['Credit']\n",
    "statement_col = db.statement\n",
    "\n",
    "with open(f\"JSON/statement.json\", \"r\") as f:\n",
    "        statement_data = json.load(f)\n",
    "\n",
    "# x = statement_col.insert_many(statement_data)\n",
    "\n",
    "session.stop()"
   ]
  },
  {
   "cell_type": "markdown",
   "metadata": {},
   "source": [
    "#### QUERIES"
   ]
  },
  {
   "cell_type": "markdown",
   "metadata": {},
   "source": [
    "#### Query 1"
   ]
  },
  {
   "cell_type": "code",
   "execution_count": null,
   "metadata": {},
   "outputs": [],
   "source": []
  },
  {
   "cell_type": "markdown",
   "metadata": {},
   "source": [
    "#### Query 2"
   ]
  },
  {
   "cell_type": "code",
   "execution_count": null,
   "metadata": {},
   "outputs": [],
   "source": []
  },
  {
   "cell_type": "markdown",
   "metadata": {},
   "source": [
    "#### Query 3"
   ]
  },
  {
   "cell_type": "code",
   "execution_count": null,
   "metadata": {},
   "outputs": [],
   "source": []
  },
  {
   "cell_type": "markdown",
   "metadata": {},
   "source": [
    "#### Query 4"
   ]
  },
  {
   "cell_type": "code",
   "execution_count": null,
   "metadata": {},
   "outputs": [],
   "source": []
  },
  {
   "cell_type": "markdown",
   "metadata": {},
   "source": [
    "#### Query 5"
   ]
  },
  {
   "cell_type": "code",
   "execution_count": null,
   "metadata": {},
   "outputs": [],
   "source": []
  },
  {
   "cell_type": "markdown",
   "metadata": {},
   "source": [
    "#### Query 6"
   ]
  },
  {
   "cell_type": "code",
   "execution_count": null,
   "metadata": {},
   "outputs": [],
   "source": []
  },
  {
   "cell_type": "markdown",
   "metadata": {},
   "source": [
    "#### Query 7"
   ]
  },
  {
   "cell_type": "code",
   "execution_count": null,
   "metadata": {},
   "outputs": [],
   "source": []
  },
  {
   "cell_type": "markdown",
   "metadata": {},
   "source": [
    "#### Query 8"
   ]
  },
  {
   "cell_type": "code",
   "execution_count": null,
   "metadata": {},
   "outputs": [],
   "source": []
  }
 ],
 "metadata": {
  "kernelspec": {
   "display_name": "dataviz_project",
   "language": "python",
   "name": "python3"
  },
  "language_info": {
   "codemirror_mode": {
    "name": "ipython",
    "version": 3
   },
   "file_extension": ".py",
   "mimetype": "text/x-python",
   "name": "python",
   "nbconvert_exporter": "python",
   "pygments_lexer": "ipython3",
   "version": "3.10.13"
  }
 },
 "nbformat": 4,
 "nbformat_minor": 2
}
