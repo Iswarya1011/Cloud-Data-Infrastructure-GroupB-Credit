{
 "cells": [
  {
   "cell_type": "code",
   "execution_count": 1,
   "metadata": {},
   "outputs": [],
   "source": [
    "import pymongo\n",
    "from dotenv import load_dotenv\n",
    "from pymongo_ssh import MongoSession\n",
    "import ssh_pymongo\n",
    "from sshtunnel import SSHTunnelForwarder\n",
    "import os"
   ]
  },
  {
   "cell_type": "code",
   "execution_count": 2,
   "metadata": {},
   "outputs": [
    {
     "data": {
      "text/plain": [
       "True"
      ]
     },
     "execution_count": 2,
     "metadata": {},
     "output_type": "execute_result"
    }
   ],
   "source": [
    "load_dotenv()"
   ]
  },
  {
   "cell_type": "markdown",
   "metadata": {},
   "source": [
    "### TEST"
   ]
  },
  {
   "cell_type": "code",
   "execution_count": null,
   "metadata": {},
   "outputs": [],
   "source": [
    "# define ssh tunnel\n",
    "server = SSHTunnelForwarder(\n",
    "    os.getenv('HOST'),\n",
    "    ssh_username=os.getenv('USER'),\n",
    "    ssh_password=os.getenv('PASSWORD'),\n",
    "    remote_bind_address=('127.0.0.1', 27017)\n",
    ")\n"
   ]
  },
  {
   "cell_type": "code",
   "execution_count": null,
   "metadata": {},
   "outputs": [],
   "source": [
    "# start ssh tunnel\n",
    "server.start()\n",
    "\n",
    "connection = pymongo.MongoClient('127.0.0.1', server.local_bind_port)\n",
    "print(connection.list_database_names())\n",
    "\n",
    "db = connection['test']\n",
    "mycol = db.customer\n",
    "# mydict = { \"name\": \"John\", \"address\": \"Highway 37\" }\n",
    "\n",
    "# x = mycol.insert_one(mydict)\n",
    "# print(x.acknowledged)\n",
    "print(db.list_collection_names())\n",
    "\n",
    "connection.close()\n",
    "server.stop()\n"
   ]
  },
  {
   "cell_type": "code",
   "execution_count": null,
   "metadata": {},
   "outputs": [],
   "source": [
    "server.start()\n",
    "\n",
    "connection = pymongo.MongoClient('127.0.0.1', server.local_bind_port, replicaset=\"RS1\")\n",
    "print(connection.list_database_names())\n",
    "db = connection['test']\n",
    "print(db.customer.find_one())\n",
    "connection.close()\n",
    "server.stop()\n"
   ]
  },
  {
   "cell_type": "code",
   "execution_count": 4,
   "metadata": {},
   "outputs": [
    {
     "name": "stdout",
     "output_type": "stream",
     "text": [
      "None\n"
     ]
    }
   ],
   "source": [
    "session = MongoSession(\n",
    "    host=os.getenv('HOST2'),\n",
    "    user=os.getenv('USER'),\n",
    "    password=os.getenv('PASSWORD'),\n",
    "    uri=\"mongodb://MESIIN592023-00038:30000/\"\n",
    ")\n",
    "\n",
    "db = session.connection['Credit']\n",
    "print(db[\"payment\"].find_one())\n",
    "session.stop()"
   ]
  },
  {
   "cell_type": "code",
   "execution_count": 5,
   "metadata": {},
   "outputs": [
    {
     "name": "stdout",
     "output_type": "stream",
     "text": [
      "{'_id': ObjectId('65a06feeb389f4ebf79f3330'), 'region_no': 1, 'region_name': 'North American', 'street': '111 First St.', 'city': 'Toronto', 'country': 'Ca'}\n"
     ]
    }
   ],
   "source": [
    "session = MongoSession(\n",
    "    host=os.getenv('HOST2'),\n",
    "    user=os.getenv('USER'),\n",
    "    password=os.getenv('PASSWORD'),\n",
    "    uri=\"mongodb://MESIIN592023-00038:30000/\"\n",
    ")\n",
    "\n",
    "db = session.connection['test']\n",
    "print(db[\"testSharding\"].find_one())\n",
    "session.stop()"
   ]
  },
  {
   "cell_type": "code",
   "execution_count": null,
   "metadata": {},
   "outputs": [],
   "source": [
    "myclient = pymongo.MongoClient(\"mongodb://MESIIN592023-00039:27017/\", replicaset=\"RS1\")\n",
    "print(myclient.list_database_names())\n",
    "session.stop()"
   ]
  },
  {
   "cell_type": "code",
   "execution_count": null,
   "metadata": {},
   "outputs": [],
   "source": [
    "session.stop()"
   ]
  },
  {
   "cell_type": "markdown",
   "metadata": {},
   "source": [
    "### TEST SSH PYMONGO"
   ]
  },
  {
   "cell_type": "code",
   "execution_count": null,
   "metadata": {},
   "outputs": [],
   "source": [
    "session = MongoSession(\n",
    "    os.getenv('HOST2'),\n",
    "    port=22,\n",
    "    user=os.getenv('USER'),\n",
    "    password=os.getenv('PASSWORD'),\n",
    "    uri='mongodb://127.0.0.1:27017/')\n",
    "\n",
    "db = session.connection['admin']\n",
    "print(db.client)\n",
    "print(db.list_collection_names())\n",
    "\n",
    "session.stop()"
   ]
  },
  {
   "cell_type": "markdown",
   "metadata": {},
   "source": [
    "### Connect to Mongos router and list databases"
   ]
  },
  {
   "cell_type": "code",
   "execution_count": null,
   "metadata": {},
   "outputs": [],
   "source": [
    "server.stop()"
   ]
  },
  {
   "cell_type": "code",
   "execution_count": null,
   "metadata": {},
   "outputs": [],
   "source": [
    "# define ssh tunnel\n",
    "server = SSHTunnelForwarder(\n",
    "    os.getenv('HOST2'),\n",
    "    ssh_username=os.getenv('USER'),\n",
    "    ssh_password=os.getenv('PASSWORD'),\n",
    "    remote_bind_address=('127.0.0.1', 30000)\n",
    ")"
   ]
  },
  {
   "cell_type": "code",
   "execution_count": null,
   "metadata": {},
   "outputs": [],
   "source": [
    "# start ssh tunnel\n",
    "server.start()\n",
    "\n",
    "connection = pymongo.MongoClient('127.0.0.1', server.local_bind_port)\n",
    "print(connection.list_database_names())\n",
    "\n",
    "db = connection['test']\n",
    "mycol = db.customer\n",
    "# mydict = { \"name\": \"John\", \"address\": \"Highway 37\" }\n",
    "# print(db.test.region.find_one())\n",
    "\n",
    "# x = mycol.insert_one(mydict)\n",
    "# print(x.acknowledged)\n",
    "print(db.list_collection_names())\n",
    "\n",
    "connection.close()\n",
    "server.stop()\n"
   ]
  },
  {
   "cell_type": "code",
   "execution_count": null,
   "metadata": {},
   "outputs": [],
   "source": [
    "myclient = pymongo.MongoClient(\"mongodb://MESIIN592023-00038:30000/\")\n",
    "myclient.list_database_names()"
   ]
  },
  {
   "cell_type": "markdown",
   "metadata": {},
   "source": [
    "### Create Collection"
   ]
  },
  {
   "cell_type": "markdown",
   "metadata": {},
   "source": [
    "Example"
   ]
  },
  {
   "cell_type": "code",
   "execution_count": null,
   "metadata": {},
   "outputs": [],
   "source": [
    "myclient = pymongo.MongoClient(\"mongodb://MESIIN592023-00038:30000/\")\n",
    "mydb = myclient[\"test\"]\n",
    "\n",
    "mycol = mydb[\"customer\"]\n",
    "mycol\n",
    "\n",
    "mydict = { \"name\": \"John\", \"address\": \"Highway 37\" }\n",
    "\n",
    "x = mycol.insert_one(mydict)"
   ]
  },
  {
   "cell_type": "markdown",
   "metadata": {},
   "source": [
    "### Insert a document into the collection"
   ]
  },
  {
   "cell_type": "markdown",
   "metadata": {},
   "source": [
    "Example"
   ]
  },
  {
   "cell_type": "code",
   "execution_count": null,
   "metadata": {},
   "outputs": [],
   "source": [
    "myclient = pymongo.MongoClient(\"mongodb://MESIIN592023-00038:30000/\")\n",
    "mydb = myclient[\"mydatabase\"]\n",
    "mycol = mydb[\"customers\"]\n",
    "\n",
    "mydict = { \"name\": \"John\", \"address\": \"Highway 37\" }\n",
    "\n",
    "x = mycol.insert_one(mydict)"
   ]
  },
  {
   "cell_type": "markdown",
   "metadata": {},
   "source": [
    "### Insert multiple documents"
   ]
  },
  {
   "cell_type": "markdown",
   "metadata": {},
   "source": [
    "Example"
   ]
  },
  {
   "cell_type": "code",
   "execution_count": null,
   "metadata": {},
   "outputs": [],
   "source": [
    "myclient = pymongo.MongoClient(\"mongodb://MESIIN592023-00038:30000/\")\n",
    "mydb = myclient[\"mydatabase\"]\n",
    "mycol = mydb[\"customers\"]\n",
    "\n",
    "mylist = [\n",
    "  { \"name\": \"Amy\", \"address\": \"Apple st 652\"},\n",
    "  { \"name\": \"Hannah\", \"address\": \"Mountain 21\"},\n",
    "  { \"name\": \"Michael\", \"address\": \"Valley 345\"},\n",
    "  { \"name\": \"Sandy\", \"address\": \"Ocean blvd 2\"},\n",
    "  { \"name\": \"Betty\", \"address\": \"Green Grass 1\"},\n",
    "  { \"name\": \"Richard\", \"address\": \"Sky st 331\"},\n",
    "  { \"name\": \"Susan\", \"address\": \"One way 98\"},\n",
    "  { \"name\": \"Vicky\", \"address\": \"Yellow Garden 2\"},\n",
    "  { \"name\": \"Ben\", \"address\": \"Park Lane 38\"},\n",
    "  { \"name\": \"William\", \"address\": \"Central st 954\"},\n",
    "  { \"name\": \"Chuck\", \"address\": \"Main Road 989\"},\n",
    "  { \"name\": \"Viola\", \"address\": \"Sideway 1633\"}\n",
    "]\n",
    "\n",
    "x = mycol.insert_many(mylist)\n",
    "\n",
    "#print list of the _id values of the inserted documents:\n",
    "print(x.inserted_ids)"
   ]
  },
  {
   "cell_type": "markdown",
   "metadata": {},
   "source": [
    "### Aggregate Functions"
   ]
  },
  {
   "cell_type": "markdown",
   "metadata": {},
   "source": [
    "https://www.geeksforgeeks.org/python-mongodb-group-aggregation/"
   ]
  },
  {
   "cell_type": "code",
   "execution_count": null,
   "metadata": {},
   "outputs": [],
   "source": []
  }
 ],
 "metadata": {
  "kernelspec": {
   "display_name": "dataviz_project",
   "language": "python",
   "name": "python3"
  },
  "language_info": {
   "codemirror_mode": {
    "name": "ipython",
    "version": 3
   },
   "file_extension": ".py",
   "mimetype": "text/x-python",
   "name": "python",
   "nbconvert_exporter": "python",
   "pygments_lexer": "ipython3",
   "version": "3.10.13"
  }
 },
 "nbformat": 4,
 "nbformat_minor": 2
}
